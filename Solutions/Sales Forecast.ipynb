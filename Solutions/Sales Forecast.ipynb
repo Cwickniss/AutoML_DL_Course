{
 "cells": [
  {
   "cell_type": "code",
   "execution_count": 1,
   "id": "6915c0d4",
   "metadata": {},
   "outputs": [],
   "source": [
    "import pandas as pd\n",
    "import h2o\n",
    "from h2o.automl import H2OAutoML\n",
    "\n",
    "from scipy import stats"
   ]
  },
  {
   "cell_type": "code",
   "execution_count": 5,
   "id": "305a098b",
   "metadata": {},
   "outputs": [
    {
     "data": {
      "text/html": [
       "<div>\n",
       "<style scoped>\n",
       "    .dataframe tbody tr th:only-of-type {\n",
       "        vertical-align: middle;\n",
       "    }\n",
       "\n",
       "    .dataframe tbody tr th {\n",
       "        vertical-align: top;\n",
       "    }\n",
       "\n",
       "    .dataframe thead th {\n",
       "        text-align: right;\n",
       "    }\n",
       "</style>\n",
       "<table border=\"1\" class=\"dataframe\">\n",
       "  <thead>\n",
       "    <tr style=\"text-align: right;\">\n",
       "      <th></th>\n",
       "      <th>id</th>\n",
       "      <th>store_nbr</th>\n",
       "      <th>family</th>\n",
       "      <th>sales</th>\n",
       "      <th>onpromotion</th>\n",
       "    </tr>\n",
       "    <tr>\n",
       "      <th>date</th>\n",
       "      <th></th>\n",
       "      <th></th>\n",
       "      <th></th>\n",
       "      <th></th>\n",
       "      <th></th>\n",
       "    </tr>\n",
       "  </thead>\n",
       "  <tbody>\n",
       "    <tr>\n",
       "      <th>2013-01-01</th>\n",
       "      <td>0</td>\n",
       "      <td>1</td>\n",
       "      <td>AUTOMOTIVE</td>\n",
       "      <td>0.0</td>\n",
       "      <td>0.0</td>\n",
       "    </tr>\n",
       "    <tr>\n",
       "      <th>2013-01-01</th>\n",
       "      <td>1194</td>\n",
       "      <td>42</td>\n",
       "      <td>CELEBRATION</td>\n",
       "      <td>0.0</td>\n",
       "      <td>0.0</td>\n",
       "    </tr>\n",
       "    <tr>\n",
       "      <th>2013-01-01</th>\n",
       "      <td>1193</td>\n",
       "      <td>42</td>\n",
       "      <td>BREAD/BAKERY</td>\n",
       "      <td>0.0</td>\n",
       "      <td>0.0</td>\n",
       "    </tr>\n",
       "    <tr>\n",
       "      <th>2013-01-01</th>\n",
       "      <td>1192</td>\n",
       "      <td>42</td>\n",
       "      <td>BOOKS</td>\n",
       "      <td>0.0</td>\n",
       "      <td>0.0</td>\n",
       "    </tr>\n",
       "    <tr>\n",
       "      <th>2013-01-01</th>\n",
       "      <td>1191</td>\n",
       "      <td>42</td>\n",
       "      <td>BEVERAGES</td>\n",
       "      <td>0.0</td>\n",
       "      <td>0.0</td>\n",
       "    </tr>\n",
       "  </tbody>\n",
       "</table>\n",
       "</div>"
      ],
      "text/plain": [
       "              id  store_nbr        family  sales  onpromotion\n",
       "date                                                         \n",
       "2013-01-01     0          1    AUTOMOTIVE    0.0          0.0\n",
       "2013-01-01  1194         42   CELEBRATION    0.0          0.0\n",
       "2013-01-01  1193         42  BREAD/BAKERY    0.0          0.0\n",
       "2013-01-01  1192         42         BOOKS    0.0          0.0\n",
       "2013-01-01  1191         42     BEVERAGES    0.0          0.0"
      ]
     },
     "execution_count": 5,
     "metadata": {},
     "output_type": "execute_result"
    }
   ],
   "source": [
    "df = pd.read_csv(r'C:\\Users\\HP\\Desktop\\Oreilly\\SalesForecast/train.csv')\n",
    "df['date'] = pd.to_datetime(df['date'])\n",
    "df = df.sort_values('date')\n",
    "df.set_index('date', inplace=True, drop=True)\n",
    "df.head()"
   ]
  },
  {
   "cell_type": "code",
   "execution_count": 6,
   "id": "d216276f",
   "metadata": {},
   "outputs": [
    {
     "data": {
      "text/plain": [
       "Index(['sales', 'id_lag1', 'id_avg_window_length2', 'id_lag2',\n",
       "       'id_avg_window_length3', 'id_lag3', 'id_avg_window_length4',\n",
       "       'store_nbr_lag1', 'store_nbr_avg_window_length2', 'store_nbr_lag2',\n",
       "       'store_nbr_avg_window_length3', 'store_nbr_lag3',\n",
       "       'store_nbr_avg_window_length4', 'family_lag1', 'family_lag2',\n",
       "       'family_lag3', 'sales_lag1', 'sales_avg_window_length2', 'sales_lag2',\n",
       "       'sales_avg_window_length3', 'sales_lag3', 'sales_avg_window_length4',\n",
       "       'onpromotion_lag1', 'onpromotion_avg_window_length2',\n",
       "       'onpromotion_lag2', 'onpromotion_avg_window_length3',\n",
       "       'onpromotion_lag3', 'onpromotion_avg_window_length4'],\n",
       "      dtype='object')"
      ]
     },
     "execution_count": 6,
     "metadata": {},
     "output_type": "execute_result"
    }
   ],
   "source": [
    "df2 = df.copy()\n",
    "num_lags = 3 # number of lags and window lenghts for mean aggregation\n",
    "delay = 1 # predict target one step ahead\n",
    "for column in df2:\n",
    "    for lag in range(1,num_lags+1):\n",
    "        df2[column + '_lag' + str(lag)] = df2[column].shift(lag*-1-(delay-1))\n",
    "        if column != 'family':\n",
    "            df2[column + '_avg_window_length' + str(lag+1)] = df2[column].shift(-1-(delay-1)).rolling(window=lag+1,center=False).mean().shift(1-(lag+1))\n",
    "\n",
    "df2.dropna(inplace=True) \n",
    "\n",
    "mask = (df2.columns.str.contains('sales') | df2.columns.str.contains('lag') | df2.columns.str.contains('window'))\n",
    "df_processed = df2[df2.columns[mask]]\n",
    "\n",
    "# the columns in the processed dataframe\n",
    "df_processed.columns"
   ]
  },
  {
   "cell_type": "code",
   "execution_count": 7,
   "id": "a83e1b7b",
   "metadata": {},
   "outputs": [
    {
     "data": {
      "text/html": [
       "<div>\n",
       "<style scoped>\n",
       "    .dataframe tbody tr th:only-of-type {\n",
       "        vertical-align: middle;\n",
       "    }\n",
       "\n",
       "    .dataframe tbody tr th {\n",
       "        vertical-align: top;\n",
       "    }\n",
       "\n",
       "    .dataframe thead th {\n",
       "        text-align: right;\n",
       "    }\n",
       "</style>\n",
       "<table border=\"1\" class=\"dataframe\">\n",
       "  <thead>\n",
       "    <tr style=\"text-align: right;\">\n",
       "      <th></th>\n",
       "      <th>sales</th>\n",
       "      <th>sales_lag1</th>\n",
       "      <th>sales_avg_window_length2</th>\n",
       "      <th>sales_lag2</th>\n",
       "      <th>sales_avg_window_length3</th>\n",
       "      <th>sales_lag3</th>\n",
       "      <th>sales_avg_window_length4</th>\n",
       "    </tr>\n",
       "    <tr>\n",
       "      <th>date</th>\n",
       "      <th></th>\n",
       "      <th></th>\n",
       "      <th></th>\n",
       "      <th></th>\n",
       "      <th></th>\n",
       "      <th></th>\n",
       "      <th></th>\n",
       "    </tr>\n",
       "  </thead>\n",
       "  <tbody>\n",
       "    <tr>\n",
       "      <th>2013-01-01</th>\n",
       "      <td>0.0</td>\n",
       "      <td>0.0</td>\n",
       "      <td>0.0</td>\n",
       "      <td>0.0</td>\n",
       "      <td>0.0</td>\n",
       "      <td>0.0</td>\n",
       "      <td>0.0</td>\n",
       "    </tr>\n",
       "    <tr>\n",
       "      <th>2013-01-01</th>\n",
       "      <td>0.0</td>\n",
       "      <td>0.0</td>\n",
       "      <td>0.0</td>\n",
       "      <td>0.0</td>\n",
       "      <td>0.0</td>\n",
       "      <td>0.0</td>\n",
       "      <td>0.0</td>\n",
       "    </tr>\n",
       "    <tr>\n",
       "      <th>2013-01-01</th>\n",
       "      <td>0.0</td>\n",
       "      <td>0.0</td>\n",
       "      <td>0.0</td>\n",
       "      <td>0.0</td>\n",
       "      <td>0.0</td>\n",
       "      <td>0.0</td>\n",
       "      <td>0.0</td>\n",
       "    </tr>\n",
       "    <tr>\n",
       "      <th>2013-01-01</th>\n",
       "      <td>0.0</td>\n",
       "      <td>0.0</td>\n",
       "      <td>0.0</td>\n",
       "      <td>0.0</td>\n",
       "      <td>0.0</td>\n",
       "      <td>0.0</td>\n",
       "      <td>0.0</td>\n",
       "    </tr>\n",
       "    <tr>\n",
       "      <th>2013-01-01</th>\n",
       "      <td>0.0</td>\n",
       "      <td>0.0</td>\n",
       "      <td>0.0</td>\n",
       "      <td>0.0</td>\n",
       "      <td>0.0</td>\n",
       "      <td>0.0</td>\n",
       "      <td>0.0</td>\n",
       "    </tr>\n",
       "    <tr>\n",
       "      <th>2013-01-01</th>\n",
       "      <td>0.0</td>\n",
       "      <td>0.0</td>\n",
       "      <td>0.0</td>\n",
       "      <td>0.0</td>\n",
       "      <td>0.0</td>\n",
       "      <td>0.0</td>\n",
       "      <td>0.0</td>\n",
       "    </tr>\n",
       "    <tr>\n",
       "      <th>2013-01-01</th>\n",
       "      <td>0.0</td>\n",
       "      <td>0.0</td>\n",
       "      <td>0.0</td>\n",
       "      <td>0.0</td>\n",
       "      <td>0.0</td>\n",
       "      <td>0.0</td>\n",
       "      <td>0.0</td>\n",
       "    </tr>\n",
       "    <tr>\n",
       "      <th>2013-01-01</th>\n",
       "      <td>0.0</td>\n",
       "      <td>0.0</td>\n",
       "      <td>0.0</td>\n",
       "      <td>0.0</td>\n",
       "      <td>0.0</td>\n",
       "      <td>0.0</td>\n",
       "      <td>0.0</td>\n",
       "    </tr>\n",
       "    <tr>\n",
       "      <th>2013-01-01</th>\n",
       "      <td>0.0</td>\n",
       "      <td>0.0</td>\n",
       "      <td>0.0</td>\n",
       "      <td>0.0</td>\n",
       "      <td>0.0</td>\n",
       "      <td>0.0</td>\n",
       "      <td>0.0</td>\n",
       "    </tr>\n",
       "    <tr>\n",
       "      <th>2013-01-01</th>\n",
       "      <td>0.0</td>\n",
       "      <td>0.0</td>\n",
       "      <td>0.0</td>\n",
       "      <td>0.0</td>\n",
       "      <td>0.0</td>\n",
       "      <td>0.0</td>\n",
       "      <td>0.0</td>\n",
       "    </tr>\n",
       "  </tbody>\n",
       "</table>\n",
       "</div>"
      ],
      "text/plain": [
       "            sales  sales_lag1  sales_avg_window_length2  sales_lag2  \\\n",
       "date                                                                  \n",
       "2013-01-01    0.0         0.0                       0.0         0.0   \n",
       "2013-01-01    0.0         0.0                       0.0         0.0   \n",
       "2013-01-01    0.0         0.0                       0.0         0.0   \n",
       "2013-01-01    0.0         0.0                       0.0         0.0   \n",
       "2013-01-01    0.0         0.0                       0.0         0.0   \n",
       "2013-01-01    0.0         0.0                       0.0         0.0   \n",
       "2013-01-01    0.0         0.0                       0.0         0.0   \n",
       "2013-01-01    0.0         0.0                       0.0         0.0   \n",
       "2013-01-01    0.0         0.0                       0.0         0.0   \n",
       "2013-01-01    0.0         0.0                       0.0         0.0   \n",
       "\n",
       "            sales_avg_window_length3  sales_lag3  sales_avg_window_length4  \n",
       "date                                                                        \n",
       "2013-01-01                       0.0         0.0                       0.0  \n",
       "2013-01-01                       0.0         0.0                       0.0  \n",
       "2013-01-01                       0.0         0.0                       0.0  \n",
       "2013-01-01                       0.0         0.0                       0.0  \n",
       "2013-01-01                       0.0         0.0                       0.0  \n",
       "2013-01-01                       0.0         0.0                       0.0  \n",
       "2013-01-01                       0.0         0.0                       0.0  \n",
       "2013-01-01                       0.0         0.0                       0.0  \n",
       "2013-01-01                       0.0         0.0                       0.0  \n",
       "2013-01-01                       0.0         0.0                       0.0  "
      ]
     },
     "execution_count": 7,
     "metadata": {},
     "output_type": "execute_result"
    }
   ],
   "source": [
    "mask = df_processed.columns.str.contains('sales')\n",
    "df_processed[df_processed.columns[mask]].head(10)"
   ]
  },
  {
   "cell_type": "code",
   "execution_count": 8,
   "id": "414f7f92",
   "metadata": {},
   "outputs": [],
   "source": [
    "df_processed.reset_index(drop=True,inplace=True)\n",
    "df_train = df_processed.loc[:int(df_processed.shape[0]*0.8),:]\n",
    "df_test = df_processed.loc[int(df_processed.shape[0]*0.8):,:]"
   ]
  },
  {
   "cell_type": "code",
   "execution_count": 9,
   "id": "488107cb",
   "metadata": {},
   "outputs": [
    {
     "name": "stdout",
     "output_type": "stream",
     "text": [
      "Checking whether there is an H2O instance running at http://localhost:54321 . connected.\n"
     ]
    },
    {
     "data": {
      "text/html": [
       "<div style=\"overflow:auto\"><table style=\"width:50%\"><tr><td>H2O_cluster_uptime:</td>\n",
       "<td>12 mins 50 secs</td></tr>\n",
       "<tr><td>H2O_cluster_timezone:</td>\n",
       "<td>Europe/Paris</td></tr>\n",
       "<tr><td>H2O_data_parsing_timezone:</td>\n",
       "<td>UTC</td></tr>\n",
       "<tr><td>H2O_cluster_version:</td>\n",
       "<td>3.34.0.3</td></tr>\n",
       "<tr><td>H2O_cluster_version_age:</td>\n",
       "<td>2 months and 8 days </td></tr>\n",
       "<tr><td>H2O_cluster_name:</td>\n",
       "<td>H2O_from_python_HP_e40ez8</td></tr>\n",
       "<tr><td>H2O_cluster_total_nodes:</td>\n",
       "<td>1</td></tr>\n",
       "<tr><td>H2O_cluster_free_memory:</td>\n",
       "<td>3.288 Gb</td></tr>\n",
       "<tr><td>H2O_cluster_total_cores:</td>\n",
       "<td>4</td></tr>\n",
       "<tr><td>H2O_cluster_allowed_cores:</td>\n",
       "<td>4</td></tr>\n",
       "<tr><td>H2O_cluster_status:</td>\n",
       "<td>locked, healthy</td></tr>\n",
       "<tr><td>H2O_connection_url:</td>\n",
       "<td>http://localhost:54321</td></tr>\n",
       "<tr><td>H2O_connection_proxy:</td>\n",
       "<td>{\"http\": null, \"https\": null}</td></tr>\n",
       "<tr><td>H2O_internal_security:</td>\n",
       "<td>False</td></tr>\n",
       "<tr><td>H2O_API_Extensions:</td>\n",
       "<td>Amazon S3, Algos, AutoML, Core V3, TargetEncoder, Core V4</td></tr>\n",
       "<tr><td>Python_version:</td>\n",
       "<td>3.7.9 final</td></tr></table></div>"
      ],
      "text/plain": [
       "--------------------------  ---------------------------------------------------------\n",
       "H2O_cluster_uptime:         12 mins 50 secs\n",
       "H2O_cluster_timezone:       Europe/Paris\n",
       "H2O_data_parsing_timezone:  UTC\n",
       "H2O_cluster_version:        3.34.0.3\n",
       "H2O_cluster_version_age:    2 months and 8 days\n",
       "H2O_cluster_name:           H2O_from_python_HP_e40ez8\n",
       "H2O_cluster_total_nodes:    1\n",
       "H2O_cluster_free_memory:    3.288 Gb\n",
       "H2O_cluster_total_cores:    4\n",
       "H2O_cluster_allowed_cores:  4\n",
       "H2O_cluster_status:         locked, healthy\n",
       "H2O_connection_url:         http://localhost:54321\n",
       "H2O_connection_proxy:       {\"http\": null, \"https\": null}\n",
       "H2O_internal_security:      False\n",
       "H2O_API_Extensions:         Amazon S3, Algos, AutoML, Core V3, TargetEncoder, Core V4\n",
       "Python_version:             3.7.9 final\n",
       "--------------------------  ---------------------------------------------------------"
      ]
     },
     "metadata": {},
     "output_type": "display_data"
    }
   ],
   "source": [
    "h2o.init(nthreads=-1)"
   ]
  },
  {
   "cell_type": "code",
   "execution_count": 10,
   "id": "854c14cd",
   "metadata": {},
   "outputs": [
    {
     "name": "stdout",
     "output_type": "stream",
     "text": [
      "Parse progress: |████████████████████████████████████████████████████████████████| (done) 100%\n",
      "Parse progress: |████████████████████████████████████████████████████████████████| (done) 100%\n"
     ]
    }
   ],
   "source": [
    "hf_train = h2o.H2OFrame(df_train)\n",
    "hf_test = h2o.H2OFrame(df_test)"
   ]
  },
  {
   "cell_type": "code",
   "execution_count": 11,
   "id": "0f4fa0e1",
   "metadata": {},
   "outputs": [
    {
     "name": "stdout",
     "output_type": "stream",
     "text": [
      "Rows:2400708\n",
      "Cols:28\n",
      "\n",
      "\n"
     ]
    },
    {
     "data": {
      "text/html": [
       "<table>\n",
       "<thead>\n",
       "<tr><th>       </th><th>sales             </th><th>id_lag1           </th><th>id_avg_window_length2  </th><th>id_lag2           </th><th>id_avg_window_length3  </th><th>id_lag3           </th><th>id_avg_window_length4  </th><th>store_nbr_lag1    </th><th>store_nbr_avg_window_length2  </th><th>store_nbr_lag2    </th><th>store_nbr_avg_window_length3  </th><th>store_nbr_lag3    </th><th>store_nbr_avg_window_length4  </th><th>family_lag1               </th><th>family_lag2               </th><th>family_lag3               </th><th>sales_lag1        </th><th>sales_avg_window_length2  </th><th>sales_lag2        </th><th>sales_avg_window_length3  </th><th>sales_lag3        </th><th>sales_avg_window_length4  </th><th>onpromotion_lag1  </th><th>onpromotion_avg_window_length2  </th><th>onpromotion_lag2  </th><th>onpromotion_avg_window_length3  </th><th>onpromotion_lag3  </th><th>onpromotion_avg_window_length4  </th></tr>\n",
       "</thead>\n",
       "<tbody>\n",
       "<tr><td>type   </td><td>real              </td><td>int               </td><td>real                   </td><td>int               </td><td>real                   </td><td>int               </td><td>real                   </td><td>int               </td><td>real                          </td><td>int               </td><td>real                          </td><td>int               </td><td>real                          </td><td>enum                      </td><td>enum                      </td><td>enum                      </td><td>real              </td><td>real                      </td><td>real              </td><td>real                      </td><td>real              </td><td>real                      </td><td>int               </td><td>real                            </td><td>int               </td><td>real                            </td><td>int               </td><td>real                            </td></tr>\n",
       "<tr><td>mins   </td><td>0.0               </td><td>1.0               </td><td>2.5                    </td><td>1.0               </td><td>3.0                    </td><td>1.0               </td><td>3.5                    </td><td>1.0               </td><td>1.0                           </td><td>1.0               </td><td>1.0                           </td><td>1.0               </td><td>1.0                           </td><td>                          </td><td>                          </td><td>                          </td><td>0.0               </td><td>0.0                       </td><td>0.0               </td><td>0.0                       </td><td>0.0               </td><td>0.0                       </td><td>0.0               </td><td>0.0                             </td><td>0.0               </td><td>0.0                             </td><td>0.0               </td><td>0.0                             </td></tr>\n",
       "<tr><td>mean   </td><td>328.2725144943659 </td><td>1200354.6407555605</td><td>1200355.1406545485     </td><td>1200355.6405535364</td><td>1200355.6405535364     </td><td>1200356.6403515139</td><td>1200356.1404525249     </td><td>27.501743235745455</td><td>27.50174261092978             </td><td>27.501741986114098</td><td>27.5017419861141              </td><td>27.501740736482738</td><td>27.50174136129841             </td><td>                          </td><td>                          </td><td>                          </td><td>328.2727835816518 </td><td>328.27301393036555        </td><td>328.27324427907956</td><td>328.2730912686602         </td><td>328.27324594525476</td><td>328.27320616533746        </td><td>28.783453048017503</td><td>28.783503449815633              </td><td>28.783553851613767</td><td>28.783520666958793              </td><td>28.783555101245145</td><td>28.78353812708583               </td></tr>\n",
       "<tr><td>maxs   </td><td>124717.0          </td><td>2401689.0         </td><td>2401687.5              </td><td>2401689.0         </td><td>2401687.0              </td><td>2401689.0         </td><td>2401686.5              </td><td>54.0              </td><td>54.0                          </td><td>54.0              </td><td>54.0                          </td><td>54.0              </td><td>54.0                          </td><td>                          </td><td>                          </td><td>                          </td><td>124717.0          </td><td>62462.5                   </td><td>124717.0          </td><td>41732.85766666666         </td><td>124717.0          </td><td>31549.89325000003         </td><td>944.0             </td><td>663.0                           </td><td>944.0             </td><td>452.0                           </td><td>944.0             </td><td>362.75                          </td></tr>\n",
       "<tr><td>sigma  </td><td>1024.9142543573776</td><td>693025.093217693  </td><td>693025.0927374611      </td><td>693025.0945887365 </td><td>693025.0927239178      </td><td>693025.095956896  </td><td>693025.0928098889      </td><td>15.585499562792696</td><td>15.22930990065691             </td><td>15.585498520603617</td><td>15.066761187682495            </td><td>15.585497478414371</td><td>14.949411814465103            </td><td>                          </td><td>                          </td><td>                          </td><td>1024.9142529730634</td><td>719.679176265996          </td><td>1024.9143539875456</td><td>591.2803765107835         </td><td>1024.914353457132 </td><td>515.6733521310387         </td><td>88.43727755706921 </td><td>63.0565755224256                </td><td>88.43738266831974 </td><td>52.00684429741229               </td><td>88.43738228279948 </td><td>45.732154078147225              </td></tr>\n",
       "<tr><td>zeros  </td><td>841721            </td><td>0                 </td><td>0                      </td><td>0                 </td><td>0                      </td><td>0                 </td><td>0                      </td><td>0                 </td><td>0                             </td><td>0                 </td><td>0                             </td><td>0                 </td><td>0                             </td><td>                          </td><td>                          </td><td>                          </td><td>841720            </td><td>405006                    </td><td>841719            </td><td>198129                    </td><td>841718            </td><td>27954                     </td><td>1265815           </td><td>1004537                         </td><td>1265814           </td><td>935747                          </td><td>1265813           </td><td>911228                          </td></tr>\n",
       "<tr><td>missing</td><td>0                 </td><td>0                 </td><td>0                      </td><td>0                 </td><td>0                      </td><td>0                 </td><td>0                      </td><td>0                 </td><td>0                             </td><td>0                 </td><td>0                             </td><td>0                 </td><td>0                             </td><td>0                         </td><td>0                         </td><td>0                         </td><td>0                 </td><td>0                         </td><td>0                 </td><td>0                         </td><td>0                 </td><td>0                         </td><td>0                 </td><td>0                               </td><td>0                 </td><td>0                               </td><td>0                 </td><td>0                               </td></tr>\n",
       "<tr><td>0      </td><td>0.0               </td><td>1194.0            </td><td>1193.5                 </td><td>1193.0            </td><td>1193.0                 </td><td>1192.0            </td><td>1192.5                 </td><td>42.0              </td><td>42.0                          </td><td>42.0              </td><td>42.0                          </td><td>42.0              </td><td>42.0                          </td><td>CELEBRATION               </td><td>BREAD/BAKERY              </td><td>BOOKS                     </td><td>0.0               </td><td>0.0                       </td><td>0.0               </td><td>0.0                       </td><td>0.0               </td><td>0.0                       </td><td>0.0               </td><td>0.0                             </td><td>0.0               </td><td>0.0                             </td><td>0.0               </td><td>0.0                             </td></tr>\n",
       "<tr><td>1      </td><td>0.0               </td><td>1193.0            </td><td>1192.5                 </td><td>1192.0            </td><td>1192.0                 </td><td>1191.0            </td><td>1191.5                 </td><td>42.0              </td><td>42.0                          </td><td>42.0              </td><td>42.0                          </td><td>42.0              </td><td>42.0                          </td><td>BREAD/BAKERY              </td><td>BOOKS                     </td><td>BEVERAGES                 </td><td>0.0               </td><td>0.0                       </td><td>0.0               </td><td>0.0                       </td><td>0.0               </td><td>0.0                       </td><td>0.0               </td><td>0.0                             </td><td>0.0               </td><td>0.0                             </td><td>0.0               </td><td>0.0                             </td></tr>\n",
       "<tr><td>2      </td><td>0.0               </td><td>1192.0            </td><td>1191.5                 </td><td>1191.0            </td><td>1191.0                 </td><td>1190.0            </td><td>1190.5                 </td><td>42.0              </td><td>42.0                          </td><td>42.0              </td><td>42.0                          </td><td>42.0              </td><td>42.0                          </td><td>BOOKS                     </td><td>BEVERAGES                 </td><td>BEAUTY                    </td><td>0.0               </td><td>0.0                       </td><td>0.0               </td><td>0.0                       </td><td>0.0               </td><td>0.0                       </td><td>0.0               </td><td>0.0                             </td><td>0.0               </td><td>0.0                             </td><td>0.0               </td><td>0.0                             </td></tr>\n",
       "<tr><td>3      </td><td>0.0               </td><td>1191.0            </td><td>1190.5                 </td><td>1190.0            </td><td>1190.0                 </td><td>1189.0            </td><td>1189.5                 </td><td>42.0              </td><td>42.0                          </td><td>42.0              </td><td>42.0                          </td><td>42.0              </td><td>42.0                          </td><td>BEVERAGES                 </td><td>BEAUTY                    </td><td>BABY CARE                 </td><td>0.0               </td><td>0.0                       </td><td>0.0               </td><td>0.0                       </td><td>0.0               </td><td>0.0                       </td><td>0.0               </td><td>0.0                             </td><td>0.0               </td><td>0.0                             </td><td>0.0               </td><td>0.0                             </td></tr>\n",
       "<tr><td>4      </td><td>0.0               </td><td>1190.0            </td><td>1189.5                 </td><td>1189.0            </td><td>1189.0                 </td><td>1188.0            </td><td>1188.5                 </td><td>42.0              </td><td>42.0                          </td><td>42.0              </td><td>42.0                          </td><td>42.0              </td><td>41.75                         </td><td>BEAUTY                    </td><td>BABY CARE                 </td><td>AUTOMOTIVE                </td><td>0.0               </td><td>0.0                       </td><td>0.0               </td><td>0.0                       </td><td>0.0               </td><td>0.0                       </td><td>0.0               </td><td>0.0                             </td><td>0.0               </td><td>0.0                             </td><td>0.0               </td><td>0.0                             </td></tr>\n",
       "<tr><td>5      </td><td>0.0               </td><td>1189.0            </td><td>1188.5                 </td><td>1188.0            </td><td>1188.0                 </td><td>1187.0            </td><td>1187.5                 </td><td>42.0              </td><td>42.0                          </td><td>42.0              </td><td>41.666666666666664            </td><td>41.0              </td><td>41.5                          </td><td>BABY CARE                 </td><td>AUTOMOTIVE                </td><td>SEAFOOD                   </td><td>0.0               </td><td>0.0                       </td><td>0.0               </td><td>0.0                       </td><td>0.0               </td><td>0.0                       </td><td>0.0               </td><td>0.0                             </td><td>0.0               </td><td>0.0                             </td><td>0.0               </td><td>0.0                             </td></tr>\n",
       "<tr><td>6      </td><td>0.0               </td><td>1188.0            </td><td>1187.5                 </td><td>1187.0            </td><td>1187.0                 </td><td>1186.0            </td><td>1186.5                 </td><td>42.0              </td><td>41.5                          </td><td>41.0              </td><td>41.333333333333336            </td><td>41.0              </td><td>41.25                         </td><td>AUTOMOTIVE                </td><td>SEAFOOD                   </td><td>SCHOOL AND OFFICE SUPPLIES</td><td>0.0               </td><td>0.0                       </td><td>0.0               </td><td>0.0                       </td><td>0.0               </td><td>0.0                       </td><td>0.0               </td><td>0.0                             </td><td>0.0               </td><td>0.0                             </td><td>0.0               </td><td>0.0                             </td></tr>\n",
       "<tr><td>7      </td><td>0.0               </td><td>1187.0            </td><td>1186.5                 </td><td>1186.0            </td><td>1186.0                 </td><td>1185.0            </td><td>1185.5                 </td><td>41.0              </td><td>41.0                          </td><td>41.0              </td><td>41.0                          </td><td>41.0              </td><td>41.0                          </td><td>SEAFOOD                   </td><td>SCHOOL AND OFFICE SUPPLIES</td><td>PRODUCE                   </td><td>0.0               </td><td>0.0                       </td><td>0.0               </td><td>0.0                       </td><td>0.0               </td><td>0.0                       </td><td>0.0               </td><td>0.0                             </td><td>0.0               </td><td>0.0                             </td><td>0.0               </td><td>0.0                             </td></tr>\n",
       "<tr><td>8      </td><td>0.0               </td><td>1186.0            </td><td>1185.5                 </td><td>1185.0            </td><td>1185.0                 </td><td>1184.0            </td><td>1184.5                 </td><td>41.0              </td><td>41.0                          </td><td>41.0              </td><td>41.0                          </td><td>41.0              </td><td>41.0                          </td><td>SCHOOL AND OFFICE SUPPLIES</td><td>PRODUCE                   </td><td>PREPARED FOODS            </td><td>0.0               </td><td>0.0                       </td><td>0.0               </td><td>0.0                       </td><td>0.0               </td><td>0.0                       </td><td>0.0               </td><td>0.0                             </td><td>0.0               </td><td>0.0                             </td><td>0.0               </td><td>0.0                             </td></tr>\n",
       "<tr><td>9      </td><td>0.0               </td><td>1185.0            </td><td>1184.5                 </td><td>1184.0            </td><td>1184.0                 </td><td>1183.0            </td><td>1183.5                 </td><td>41.0              </td><td>41.0                          </td><td>41.0              </td><td>41.0                          </td><td>41.0              </td><td>41.0                          </td><td>PRODUCE                   </td><td>PREPARED FOODS            </td><td>POULTRY                   </td><td>0.0               </td><td>0.0                       </td><td>0.0               </td><td>0.0                       </td><td>0.0               </td><td>0.0                       </td><td>0.0               </td><td>0.0                             </td><td>0.0               </td><td>0.0                             </td><td>0.0               </td><td>0.0                             </td></tr>\n",
       "</tbody>\n",
       "</table>"
      ]
     },
     "metadata": {},
     "output_type": "display_data"
    }
   ],
   "source": [
    "hf_train.describe()"
   ]
  },
  {
   "cell_type": "code",
   "execution_count": 12,
   "id": "2779543e",
   "metadata": {},
   "outputs": [],
   "source": [
    "y = 'sales'\n",
    "X = hf_train.columns\n",
    "X.remove(y)"
   ]
  },
  {
   "cell_type": "code",
   "execution_count": 13,
   "id": "73acc66a",
   "metadata": {},
   "outputs": [
    {
     "name": "stdout",
     "output_type": "stream",
     "text": [
      "AutoML progress: |█Failed polling AutoML progress log: [WinError 32] Het proces heeft geen toegang tot het bestand omdat het door een ander\n",
      "proces wordt gebruikt: 'C:\\\\Users\\\\HP\\\\AppData\\\\Local\\\\Temp\\\\tmpimn6ju6m.csv'\n",
      "█████\n",
      "12:35:59.570: AutoML: XGBoost is not available; skipping it.\n",
      "12:35:59.570: Step 'best_of_family_xgboost' not defined in provider 'StackedEnsemble': skipping it.\n",
      "12:35:59.570: Step 'all_xgboost' not defined in provider 'StackedEnsemble': skipping it.\n",
      "\n",
      "█████████████████████████████████████████████████████████| (done) 100%\n",
      "Model Details\n",
      "=============\n",
      "H2OStackedEnsembleEstimator :  Stacked Ensemble\n",
      "Model Key:  StackedEnsemble_BestOfFamily_1_AutoML_2_20211215_123559\n",
      "\n",
      "No model summary for this model\n",
      "\n",
      "ModelMetricsRegressionGLM: stackedensemble\n",
      "** Reported on train data. **\n",
      "\n",
      "MSE: 132868.64886760275\n",
      "RMSE: 364.51152089831504\n",
      "MAE: 106.65203380188791\n",
      "RMSLE: NaN\n",
      "R^2: 0.8640894827310865\n",
      "Mean Residual Deviance: 132868.64886760275\n",
      "Null degrees of freedom: 9983\n",
      "Residual degrees of freedom: 9982\n",
      "Null deviance: 9761182686.778532\n",
      "Residual deviance: 1326560590.2941458\n",
      "AIC: 146121.77393700354\n",
      "\n",
      "ModelMetricsRegressionGLM: stackedensemble\n",
      "** Reported on cross-validation data. **\n",
      "\n",
      "MSE: 187584.639310946\n",
      "RMSE: 433.11042392321383\n",
      "MAE: 130.34604048744876\n",
      "RMSLE: NaN\n",
      "R^2: 0.8214242894141014\n",
      "Mean Residual Deviance: 187584.639310946\n",
      "Null degrees of freedom: 2400707\n",
      "Residual degrees of freedom: 2400706\n",
      "Null deviance: 2521821039202.163\n",
      "Residual deviance: 450335944270.9025\n",
      "AIC: 35962281.739302546\n"
     ]
    },
    {
     "data": {
      "text/plain": []
     },
     "execution_count": 13,
     "metadata": {},
     "output_type": "execute_result"
    }
   ],
   "source": [
    "aml = H2OAutoML(max_runtime_secs = 600,\n",
    "                seed = 42)\n",
    "aml.train(x = X, \n",
    "          y = y,\n",
    "          training_frame = hf_train,\n",
    "          leaderboard_frame = hf_test)"
   ]
  },
  {
   "cell_type": "code",
   "execution_count": 14,
   "id": "45041266",
   "metadata": {},
   "outputs": [
    {
     "data": {
      "text/html": [
       "<table>\n",
       "<thead>\n",
       "<tr><th>model_id                                               </th><th style=\"text-align: right;\">  mean_residual_deviance</th><th style=\"text-align: right;\">    rmse</th><th style=\"text-align: right;\">             mse</th><th style=\"text-align: right;\">    mae</th><th style=\"text-align: right;\">    rmsle</th></tr>\n",
       "</thead>\n",
       "<tbody>\n",
       "<tr><td>StackedEnsemble_BestOfFamily_1_AutoML_2_20211215_123559</td><td style=\"text-align: right;\">        289456          </td><td style=\"text-align: right;\"> 538.011</td><td style=\"text-align: right;\">289456          </td><td style=\"text-align: right;\">155.673</td><td style=\"text-align: right;\">nan      </td></tr>\n",
       "<tr><td>StackedEnsemble_BestOfFamily_2_AutoML_2_20211215_123559</td><td style=\"text-align: right;\">        298482          </td><td style=\"text-align: right;\"> 546.335</td><td style=\"text-align: right;\">298482          </td><td style=\"text-align: right;\">148.068</td><td style=\"text-align: right;\">nan      </td></tr>\n",
       "<tr><td>StackedEnsemble_AllModels_1_AutoML_2_20211215_123559   </td><td style=\"text-align: right;\">        298482          </td><td style=\"text-align: right;\"> 546.335</td><td style=\"text-align: right;\">298482          </td><td style=\"text-align: right;\">148.068</td><td style=\"text-align: right;\">nan      </td></tr>\n",
       "<tr><td>GBM_1_AutoML_2_20211215_123559                         </td><td style=\"text-align: right;\">        510338          </td><td style=\"text-align: right;\"> 714.38 </td><td style=\"text-align: right;\">510338          </td><td style=\"text-align: right;\">265.2  </td><td style=\"text-align: right;\">  2.69189</td></tr>\n",
       "<tr><td>DRF_1_AutoML_2_20211215_123559                         </td><td style=\"text-align: right;\">        584163          </td><td style=\"text-align: right;\"> 764.305</td><td style=\"text-align: right;\">584163          </td><td style=\"text-align: right;\">161.791</td><td style=\"text-align: right;\">  1.24679</td></tr>\n",
       "<tr><td>GBM_2_AutoML_2_20211215_123559                         </td><td style=\"text-align: right;\">             1.5148e+06 </td><td style=\"text-align: right;\">1230.77 </td><td style=\"text-align: right;\">     1.5148e+06 </td><td style=\"text-align: right;\">513.055</td><td style=\"text-align: right;\">  3.28929</td></tr>\n",
       "<tr><td>GBM_4_AutoML_2_20211215_123559                         </td><td style=\"text-align: right;\">             1.6176e+06 </td><td style=\"text-align: right;\">1271.85 </td><td style=\"text-align: right;\">     1.6176e+06 </td><td style=\"text-align: right;\">536.479</td><td style=\"text-align: right;\">  3.33686</td></tr>\n",
       "<tr><td>GBM_3_AutoML_2_20211215_123559                         </td><td style=\"text-align: right;\">             1.66163e+06</td><td style=\"text-align: right;\">1289.04 </td><td style=\"text-align: right;\">     1.66163e+06</td><td style=\"text-align: right;\">542.226</td><td style=\"text-align: right;\">  3.34751</td></tr>\n",
       "<tr><td>GLM_1_AutoML_2_20211215_123559                         </td><td style=\"text-align: right;\">             1.87433e+06</td><td style=\"text-align: right;\">1369.06 </td><td style=\"text-align: right;\">     1.87433e+06</td><td style=\"text-align: right;\">579.019</td><td style=\"text-align: right;\">  3.42795</td></tr>\n",
       "</tbody>\n",
       "</table>"
      ]
     },
     "metadata": {},
     "output_type": "display_data"
    },
    {
     "data": {
      "text/plain": []
     },
     "execution_count": 14,
     "metadata": {},
     "output_type": "execute_result"
    }
   ],
   "source": [
    "lb = aml.leaderboard\n",
    "\n",
    "lb"
   ]
  },
  {
   "cell_type": "code",
   "execution_count": 15,
   "id": "5eeb0f88",
   "metadata": {},
   "outputs": [],
   "source": [
    "leader_model = aml.leader"
   ]
  },
  {
   "cell_type": "code",
   "execution_count": 16,
   "id": "c9742373",
   "metadata": {},
   "outputs": [
    {
     "name": "stdout",
     "output_type": "stream",
     "text": [
      "stackedensemble prediction progress: |███████████████████████████████████████████| (done) 100%\n"
     ]
    }
   ],
   "source": [
    "hf_test_predict = leader_model.predict(hf_test)"
   ]
  },
  {
   "cell_type": "code",
   "execution_count": 17,
   "id": "7044daf2",
   "metadata": {},
   "outputs": [
    {
     "data": {
      "text/html": [
       "<table>\n",
       "<thead>\n",
       "<tr><th style=\"text-align: right;\">  predict</th></tr>\n",
       "</thead>\n",
       "<tbody>\n",
       "<tr><td style=\"text-align: right;\"> 233.997 </td></tr>\n",
       "<tr><td style=\"text-align: right;\"> 586.998 </td></tr>\n",
       "<tr><td style=\"text-align: right;\">1324.48  </td></tr>\n",
       "<tr><td style=\"text-align: right;\">  48.6634</td></tr>\n",
       "<tr><td style=\"text-align: right;\"> 721.105 </td></tr>\n",
       "</tbody>\n",
       "</table>"
      ]
     },
     "metadata": {},
     "output_type": "display_data"
    },
    {
     "data": {
      "text/plain": []
     },
     "execution_count": 17,
     "metadata": {},
     "output_type": "execute_result"
    }
   ],
   "source": [
    "hf_test_predict.head(5)\n"
   ]
  },
  {
   "cell_type": "code",
   "execution_count": 19,
   "id": "6f87ad6f",
   "metadata": {},
   "outputs": [
    {
     "data": {
      "text/html": [
       "<div>\n",
       "<style scoped>\n",
       "    .dataframe tbody tr th:only-of-type {\n",
       "        vertical-align: middle;\n",
       "    }\n",
       "\n",
       "    .dataframe tbody tr th {\n",
       "        vertical-align: top;\n",
       "    }\n",
       "\n",
       "    .dataframe thead th {\n",
       "        text-align: right;\n",
       "    }\n",
       "</style>\n",
       "<table border=\"1\" class=\"dataframe\">\n",
       "  <thead>\n",
       "    <tr style=\"text-align: right;\">\n",
       "      <th></th>\n",
       "      <th>ground_truth</th>\n",
       "      <th>predictions</th>\n",
       "    </tr>\n",
       "  </thead>\n",
       "  <tbody>\n",
       "    <tr>\n",
       "      <th>0</th>\n",
       "      <td>193.492</td>\n",
       "      <td>233.997459</td>\n",
       "    </tr>\n",
       "    <tr>\n",
       "      <th>1</th>\n",
       "      <td>646.000</td>\n",
       "      <td>586.997861</td>\n",
       "    </tr>\n",
       "    <tr>\n",
       "      <th>2</th>\n",
       "      <td>1106.000</td>\n",
       "      <td>1324.476131</td>\n",
       "    </tr>\n",
       "    <tr>\n",
       "      <th>3</th>\n",
       "      <td>4.000</td>\n",
       "      <td>48.663363</td>\n",
       "    </tr>\n",
       "    <tr>\n",
       "      <th>4</th>\n",
       "      <td>732.000</td>\n",
       "      <td>721.105172</td>\n",
       "    </tr>\n",
       "  </tbody>\n",
       "</table>\n",
       "</div>"
      ],
      "text/plain": [
       "   ground_truth  predictions\n",
       "0       193.492   233.997459\n",
       "1       646.000   586.997861\n",
       "2      1106.000  1324.476131\n",
       "3         4.000    48.663363\n",
       "4       732.000   721.105172"
      ]
     },
     "execution_count": 19,
     "metadata": {},
     "output_type": "execute_result"
    }
   ],
   "source": [
    "df_results = pd.DataFrame()\n",
    "df_results['ground_truth'] = df_test['sales'].reset_index(drop=True)\n",
    "df_results['predictions'] = h2o.as_list(hf_test_predict,use_pandas=True)\n",
    "df_results.head()"
   ]
  },
  {
   "cell_type": "code",
   "execution_count": null,
   "id": "939bc0c2",
   "metadata": {},
   "outputs": [],
   "source": []
  }
 ],
 "metadata": {
  "kernelspec": {
   "display_name": "Python 3",
   "language": "python",
   "name": "python3"
  },
  "language_info": {
   "codemirror_mode": {
    "name": "ipython",
    "version": 3
   },
   "file_extension": ".py",
   "mimetype": "text/x-python",
   "name": "python",
   "nbconvert_exporter": "python",
   "pygments_lexer": "ipython3",
   "version": "3.7.9"
  }
 },
 "nbformat": 4,
 "nbformat_minor": 5
}
