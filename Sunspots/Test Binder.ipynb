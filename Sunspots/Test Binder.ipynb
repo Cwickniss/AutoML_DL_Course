{
 "cells": [
  {
   "cell_type": "code",
   "execution_count": 2,
   "id": "e3cf0a9d",
   "metadata": {},
   "outputs": [
    {
     "name": "stdout",
     "output_type": "stream",
     "text": [
      "Requirement already satisfied: pandas in c:\\users\\hp\\appdata\\local\\programs\\python\\python37\\lib\\site-packages (1.3.3)\n",
      "Requirement already satisfied: pytz>=2017.3 in c:\\users\\hp\\appdata\\local\\programs\\python\\python37\\lib\\site-packages (from pandas) (2020.4)\n",
      "Requirement already satisfied: numpy>=1.17.3 in c:\\users\\hp\\appdata\\local\\programs\\python\\python37\\lib\\site-packages (from pandas) (1.19.5)\n",
      "Requirement already satisfied: python-dateutil>=2.7.3 in c:\\users\\hp\\appdata\\local\\programs\\python\\python37\\lib\\site-packages (from pandas) (2.8.1)\n",
      "Requirement already satisfied: six>=1.5 in c:\\users\\hp\\appdata\\local\\programs\\python\\python37\\lib\\site-packages (from python-dateutil>=2.7.3->pandas) (1.15.0)\n",
      "Requirement already satisfied: sklearn in c:\\users\\hp\\appdata\\local\\programs\\python\\python37\\lib\\site-packages (0.0)\n",
      "Requirement already satisfied: scikit-learn in c:\\users\\hp\\appdata\\local\\programs\\python\\python37\\lib\\site-packages (from sklearn) (1.0)\n",
      "Requirement already satisfied: scipy>=1.1.0 in c:\\users\\hp\\appdata\\local\\programs\\python\\python37\\lib\\site-packages (from scikit-learn->sklearn) (1.7.1)\n",
      "Requirement already satisfied: joblib>=0.11 in c:\\users\\hp\\appdata\\local\\programs\\python\\python37\\lib\\site-packages (from scikit-learn->sklearn) (1.0.1)\n",
      "Requirement already satisfied: threadpoolctl>=2.0.0 in c:\\users\\hp\\appdata\\local\\programs\\python\\python37\\lib\\site-packages (from scikit-learn->sklearn) (2.1.0)\n",
      "Requirement already satisfied: numpy>=1.14.6 in c:\\users\\hp\\appdata\\local\\programs\\python\\python37\\lib\\site-packages (from scikit-learn->sklearn) (1.19.5)\n",
      "Requirement already satisfied: mljar-supervised in c:\\users\\hp\\appdata\\roaming\\python\\python37\\site-packages (0.11.1)\n",
      "Requirement already satisfied: joblib>=1.0.1 in c:\\users\\hp\\appdata\\local\\programs\\python\\python37\\lib\\site-packages (from mljar-supervised) (1.0.1)\n",
      "Requirement already satisfied: shap==0.36.0 in c:\\users\\hp\\appdata\\roaming\\python\\python37\\site-packages (from mljar-supervised) (0.36.0)\n",
      "Requirement already satisfied: markdown in c:\\users\\hp\\appdata\\local\\programs\\python\\python37\\lib\\site-packages (from mljar-supervised) (3.3.3)\n",
      "Requirement already satisfied: category-encoders>=2.2.2 in c:\\users\\hp\\appdata\\roaming\\python\\python37\\site-packages (from mljar-supervised) (2.2.2)\n",
      "Requirement already satisfied: optuna>=2.7.0 in c:\\users\\hp\\appdata\\roaming\\python\\python37\\site-packages (from mljar-supervised) (2.9.1)\n",
      "Requirement already satisfied: xgboost>=1.3.3 in c:\\users\\hp\\appdata\\local\\programs\\python\\python37\\lib\\site-packages (from mljar-supervised) (1.4.2)\n",
      "Requirement already satisfied: tabulate>=0.8.7 in c:\\users\\hp\\appdata\\local\\programs\\python\\python37\\lib\\site-packages (from mljar-supervised) (0.8.9)\n",
      "Requirement already satisfied: lightgbm>=3.0.0 in c:\\users\\hp\\appdata\\local\\programs\\python\\python37\\lib\\site-packages (from mljar-supervised) (3.2.1)\n",
      "Requirement already satisfied: scikit-learn>=0.24.2 in c:\\users\\hp\\appdata\\local\\programs\\python\\python37\\lib\\site-packages (from mljar-supervised) (1.0)\n",
      "Requirement already satisfied: catboost>=0.24.4 in c:\\users\\hp\\appdata\\roaming\\python\\python37\\site-packages (from mljar-supervised) (1.0.0)\n",
      "Requirement already satisfied: scipy>=1.6.1 in c:\\users\\hp\\appdata\\local\\programs\\python\\python37\\lib\\site-packages (from mljar-supervised) (1.7.1)\n",
      "Requirement already satisfied: numpy>=1.19.5 in c:\\users\\hp\\appdata\\local\\programs\\python\\python37\\lib\\site-packages (from mljar-supervised) (1.19.5)\n",
      "Requirement already satisfied: seaborn>=0.11.1 in c:\\users\\hp\\appdata\\local\\programs\\python\\python37\\lib\\site-packages (from mljar-supervised) (0.11.1)\n",
      "Requirement already satisfied: matplotlib>=3.2.2 in c:\\users\\hp\\appdata\\local\\programs\\python\\python37\\lib\\site-packages (from mljar-supervised) (3.3.2)\n",
      "Requirement already satisfied: dtreeviz>=1.3 in c:\\users\\hp\\appdata\\roaming\\python\\python37\\site-packages (from mljar-supervised) (1.3.1)\n",
      "Requirement already satisfied: numba==0.53.0 in c:\\users\\hp\\appdata\\roaming\\python\\python37\\site-packages (from mljar-supervised) (0.53.0)\n",
      "Requirement already satisfied: pandas>=1.2.0 in c:\\users\\hp\\appdata\\local\\programs\\python\\python37\\lib\\site-packages (from mljar-supervised) (1.3.3)\n",
      "Requirement already satisfied: wordcloud>=1.8.1 in c:\\users\\hp\\appdata\\roaming\\python\\python37\\site-packages (from mljar-supervised) (1.8.1)\n",
      "Requirement already satisfied: scikit-plot==0.3.7 in c:\\users\\hp\\appdata\\roaming\\python\\python37\\site-packages (from mljar-supervised) (0.3.7)\n",
      "Requirement already satisfied: llvmlite<0.37,>=0.36.0rc1 in c:\\users\\hp\\appdata\\local\\programs\\python\\python37\\lib\\site-packages (from numba==0.53.0->mljar-supervised) (0.36.0)\n",
      "Requirement already satisfied: setuptools in c:\\users\\hp\\appdata\\local\\programs\\python\\python37\\lib\\site-packages (from numba==0.53.0->mljar-supervised) (47.1.0)\n",
      "Requirement already satisfied: slicer in c:\\users\\hp\\appdata\\local\\programs\\python\\python37\\lib\\site-packages (from shap==0.36.0->mljar-supervised) (0.0.7)\n",
      "Requirement already satisfied: tqdm>4.25.0 in c:\\users\\hp\\appdata\\local\\programs\\python\\python37\\lib\\site-packages (from shap==0.36.0->mljar-supervised) (4.61.1)\n",
      "Requirement already satisfied: graphviz in c:\\users\\hp\\appdata\\local\\programs\\python\\python37\\lib\\site-packages (from catboost>=0.24.4->mljar-supervised) (0.15)\n",
      "Requirement already satisfied: plotly in c:\\users\\hp\\appdata\\local\\programs\\python\\python37\\lib\\site-packages (from catboost>=0.24.4->mljar-supervised) (5.1.0)\n",
      "Requirement already satisfied: six in c:\\users\\hp\\appdata\\local\\programs\\python\\python37\\lib\\site-packages (from catboost>=0.24.4->mljar-supervised) (1.15.0)\n",
      "Requirement already satisfied: patsy>=0.5.1 in c:\\users\\hp\\appdata\\local\\programs\\python\\python37\\lib\\site-packages (from category-encoders>=2.2.2->mljar-supervised) (0.5.1)\n",
      "Requirement already satisfied: statsmodels>=0.9.0 in c:\\users\\hp\\appdata\\local\\programs\\python\\python37\\lib\\site-packages (from category-encoders>=2.2.2->mljar-supervised) (0.12.2)\n",
      "Requirement already satisfied: pytest in c:\\users\\hp\\appdata\\local\\programs\\python\\python37\\lib\\site-packages (from dtreeviz>=1.3->mljar-supervised) (6.2.4)\n",
      "Requirement already satisfied: colour in c:\\users\\hp\\appdata\\roaming\\python\\python37\\site-packages (from dtreeviz>=1.3->mljar-supervised) (0.1.5)\n",
      "Requirement already satisfied: wheel in c:\\users\\hp\\appdata\\local\\programs\\python\\python37\\lib\\site-packages (from lightgbm>=3.0.0->mljar-supervised) (0.35.1)\n",
      "Requirement already satisfied: pillow>=6.2.0 in c:\\users\\hp\\appdata\\local\\programs\\python\\python37\\lib\\site-packages (from matplotlib>=3.2.2->mljar-supervised) (8.0.1)\n",
      "Requirement already satisfied: python-dateutil>=2.1 in c:\\users\\hp\\appdata\\local\\programs\\python\\python37\\lib\\site-packages (from matplotlib>=3.2.2->mljar-supervised) (2.8.1)\n",
      "Requirement already satisfied: pyparsing!=2.0.4,!=2.1.2,!=2.1.6,>=2.0.3 in c:\\users\\hp\\appdata\\local\\programs\\python\\python37\\lib\\site-packages (from matplotlib>=3.2.2->mljar-supervised) (2.4.7)\n",
      "Requirement already satisfied: kiwisolver>=1.0.1 in c:\\users\\hp\\appdata\\local\\programs\\python\\python37\\lib\\site-packages (from matplotlib>=3.2.2->mljar-supervised) (1.3.1)\n",
      "Requirement already satisfied: cycler>=0.10 in c:\\users\\hp\\appdata\\local\\programs\\python\\python37\\lib\\site-packages (from matplotlib>=3.2.2->mljar-supervised) (0.10.0)\n",
      "Requirement already satisfied: certifi>=2020.06.20 in c:\\users\\hp\\appdata\\local\\programs\\python\\python37\\lib\\site-packages (from matplotlib>=3.2.2->mljar-supervised) (2020.11.8)\n",
      "Requirement already satisfied: cmaes>=0.8.2 in c:\\users\\hp\\appdata\\roaming\\python\\python37\\site-packages (from optuna>=2.7.0->mljar-supervised) (0.8.2)\n",
      "Requirement already satisfied: PyYAML in c:\\users\\hp\\appdata\\local\\programs\\python\\python37\\lib\\site-packages (from optuna>=2.7.0->mljar-supervised) (5.4.1)\n",
      "Requirement already satisfied: colorlog in c:\\users\\hp\\appdata\\roaming\\python\\python37\\site-packages (from optuna>=2.7.0->mljar-supervised) (6.4.1)\n",
      "Requirement already satisfied: alembic in c:\\users\\hp\\appdata\\local\\programs\\python\\python37\\lib\\site-packages (from optuna>=2.7.0->mljar-supervised) (1.4.1)\n",
      "Requirement already satisfied: packaging>=20.0 in c:\\users\\hp\\appdata\\local\\programs\\python\\python37\\lib\\site-packages (from optuna>=2.7.0->mljar-supervised) (20.4)\n",
      "Requirement already satisfied: sqlalchemy>=1.1.0 in c:\\users\\hp\\appdata\\local\\programs\\python\\python37\\lib\\site-packages (from optuna>=2.7.0->mljar-supervised) (1.4.21)\n",
      "Requirement already satisfied: cliff in c:\\users\\hp\\appdata\\roaming\\python\\python37\\site-packages (from optuna>=2.7.0->mljar-supervised) (3.9.0)\n",
      "Requirement already satisfied: pytz>=2017.3 in c:\\users\\hp\\appdata\\local\\programs\\python\\python37\\lib\\site-packages (from pandas>=1.2.0->mljar-supervised) (2020.4)\n",
      "Requirement already satisfied: threadpoolctl>=2.0.0 in c:\\users\\hp\\appdata\\local\\programs\\python\\python37\\lib\\site-packages (from scikit-learn>=0.24.2->mljar-supervised) (2.1.0)\n",
      "Requirement already satisfied: greenlet!=0.4.17 in c:\\users\\hp\\appdata\\local\\programs\\python\\python37\\lib\\site-packages (from sqlalchemy>=1.1.0->optuna>=2.7.0->mljar-supervised) (1.1.0)\n",
      "Requirement already satisfied: importlib-metadata in c:\\users\\hp\\appdata\\local\\programs\\python\\python37\\lib\\site-packages (from sqlalchemy>=1.1.0->optuna>=2.7.0->mljar-supervised) (2.1.1)\n",
      "Requirement already satisfied: python-editor>=0.3 in c:\\users\\hp\\appdata\\local\\programs\\python\\python37\\lib\\site-packages (from alembic->optuna>=2.7.0->mljar-supervised) (1.0.4)\n",
      "Requirement already satisfied: Mako in c:\\users\\hp\\appdata\\local\\programs\\python\\python37\\lib\\site-packages (from alembic->optuna>=2.7.0->mljar-supervised) (1.1.4)\n",
      "Requirement already satisfied: stevedore>=2.0.1 in c:\\users\\hp\\appdata\\local\\programs\\python\\python37\\lib\\site-packages (from cliff->optuna>=2.7.0->mljar-supervised) (3.4.0)\n",
      "Requirement already satisfied: autopage>=0.4.0 in c:\\users\\hp\\appdata\\local\\programs\\python\\python37\\lib\\site-packages (from cliff->optuna>=2.7.0->mljar-supervised) (0.4.0)\n",
      "Requirement already satisfied: cmd2>=1.0.0 in c:\\users\\hp\\appdata\\local\\programs\\python\\python37\\lib\\site-packages (from cliff->optuna>=2.7.0->mljar-supervised) (2.2.0)\n",
      "Requirement already satisfied: pbr!=2.1.0,>=2.0.0 in c:\\users\\hp\\appdata\\local\\programs\\python\\python37\\lib\\site-packages (from cliff->optuna>=2.7.0->mljar-supervised) (5.6.0)\n",
      "Requirement already satisfied: PrettyTable>=0.7.2 in c:\\users\\hp\\appdata\\local\\programs\\python\\python37\\lib\\site-packages (from cliff->optuna>=2.7.0->mljar-supervised) (2.2.1)\n",
      "Requirement already satisfied: wcwidth>=0.1.7 in c:\\users\\hp\\appdata\\local\\programs\\python\\python37\\lib\\site-packages (from cmd2>=1.0.0->cliff->optuna>=2.7.0->mljar-supervised) (0.2.5)\n",
      "Requirement already satisfied: pyperclip>=1.6 in c:\\users\\hp\\appdata\\local\\programs\\python\\python37\\lib\\site-packages (from cmd2>=1.0.0->cliff->optuna>=2.7.0->mljar-supervised) (1.8.2)\n",
      "Requirement already satisfied: pyreadline in c:\\users\\hp\\appdata\\local\\programs\\python\\python37\\lib\\site-packages (from cmd2>=1.0.0->cliff->optuna>=2.7.0->mljar-supervised) (2.1)\n",
      "Requirement already satisfied: attrs>=16.3.0 in c:\\users\\hp\\appdata\\local\\programs\\python\\python37\\lib\\site-packages (from cmd2>=1.0.0->cliff->optuna>=2.7.0->mljar-supervised) (20.3.0)\n",
      "Requirement already satisfied: typing-extensions in c:\\users\\hp\\appdata\\local\\programs\\python\\python37\\lib\\site-packages (from cmd2>=1.0.0->cliff->optuna>=2.7.0->mljar-supervised) (3.7.4.3)\n",
      "Requirement already satisfied: colorama>=0.3.7 in c:\\users\\hp\\appdata\\local\\programs\\python\\python37\\lib\\site-packages (from cmd2>=1.0.0->cliff->optuna>=2.7.0->mljar-supervised) (0.4.4)\n",
      "Requirement already satisfied: zipp>=0.5 in c:\\users\\hp\\appdata\\local\\programs\\python\\python37\\lib\\site-packages (from importlib-metadata->sqlalchemy>=1.1.0->optuna>=2.7.0->mljar-supervised) (3.4.0)\n",
      "Requirement already satisfied: MarkupSafe>=0.9.2 in c:\\users\\hp\\appdata\\local\\programs\\python\\python37\\lib\\site-packages (from Mako->alembic->optuna>=2.7.0->mljar-supervised) (1.1.1)\n",
      "Requirement already satisfied: tenacity>=6.2.0 in c:\\users\\hp\\appdata\\local\\programs\\python\\python37\\lib\\site-packages (from plotly->catboost>=0.24.4->mljar-supervised) (8.0.1)\n",
      "Requirement already satisfied: py>=1.8.2 in c:\\users\\hp\\appdata\\local\\programs\\python\\python37\\lib\\site-packages (from pytest->dtreeviz>=1.3->mljar-supervised) (1.10.0)\n",
      "Requirement already satisfied: iniconfig in c:\\users\\hp\\appdata\\local\\programs\\python\\python37\\lib\\site-packages (from pytest->dtreeviz>=1.3->mljar-supervised) (1.1.1)\n",
      "Requirement already satisfied: pluggy<1.0.0a1,>=0.12 in c:\\users\\hp\\appdata\\local\\programs\\python\\python37\\lib\\site-packages (from pytest->dtreeviz>=1.3->mljar-supervised) (0.13.1)\n",
      "Requirement already satisfied: toml in c:\\users\\hp\\appdata\\local\\programs\\python\\python37\\lib\\site-packages (from pytest->dtreeviz>=1.3->mljar-supervised) (0.10.2)\n",
      "Requirement already satisfied: atomicwrites>=1.0 in c:\\users\\hp\\appdata\\local\\programs\\python\\python37\\lib\\site-packages (from pytest->dtreeviz>=1.3->mljar-supervised) (1.4.0)\n"
     ]
    }
   ],
   "source": [
    "!pip install pandas\n",
    "!pip install sklearn\n",
    "!pip install mljar-supervised\n",
    "\n",
    "import pandas as pd"
   ]
  },
  {
   "cell_type": "code",
   "execution_count": 2,
   "id": "4188fbcd",
   "metadata": {},
   "outputs": [
    {
     "data": {
      "text/html": [
       "<div>\n",
       "<style scoped>\n",
       "    .dataframe tbody tr th:only-of-type {\n",
       "        vertical-align: middle;\n",
       "    }\n",
       "\n",
       "    .dataframe tbody tr th {\n",
       "        vertical-align: top;\n",
       "    }\n",
       "\n",
       "    .dataframe thead th {\n",
       "        text-align: right;\n",
       "    }\n",
       "</style>\n",
       "<table border=\"1\" class=\"dataframe\">\n",
       "  <thead>\n",
       "    <tr style=\"text-align: right;\">\n",
       "      <th></th>\n",
       "      <th>Date</th>\n",
       "      <th>Monthly Mean Total Sunspot Number</th>\n",
       "    </tr>\n",
       "  </thead>\n",
       "  <tbody>\n",
       "    <tr>\n",
       "      <th>0</th>\n",
       "      <td>1749-01-31</td>\n",
       "      <td>96.7</td>\n",
       "    </tr>\n",
       "    <tr>\n",
       "      <th>1</th>\n",
       "      <td>1749-02-28</td>\n",
       "      <td>104.3</td>\n",
       "    </tr>\n",
       "    <tr>\n",
       "      <th>2</th>\n",
       "      <td>1749-03-31</td>\n",
       "      <td>116.7</td>\n",
       "    </tr>\n",
       "    <tr>\n",
       "      <th>3</th>\n",
       "      <td>1749-04-30</td>\n",
       "      <td>92.8</td>\n",
       "    </tr>\n",
       "    <tr>\n",
       "      <th>4</th>\n",
       "      <td>1749-05-31</td>\n",
       "      <td>141.7</td>\n",
       "    </tr>\n",
       "  </tbody>\n",
       "</table>\n",
       "</div>"
      ],
      "text/plain": [
       "         Date  Monthly Mean Total Sunspot Number\n",
       "0  1749-01-31                               96.7\n",
       "1  1749-02-28                              104.3\n",
       "2  1749-03-31                              116.7\n",
       "3  1749-04-30                               92.8\n",
       "4  1749-05-31                              141.7"
      ]
     },
     "execution_count": 2,
     "metadata": {},
     "output_type": "execute_result"
    }
   ],
   "source": [
    "url = 'https://raw.githubusercontent.com/Stijnvhd/AutoML_DL_Course/main/Sunspots/Sunspots.csv'\n",
    "df = pd.read_csv(url,index_col=0,parse_dates=[0])\n",
    "df.head(5)"
   ]
  },
  {
   "cell_type": "code",
   "execution_count": 3,
   "id": "1b3ff780",
   "metadata": {},
   "outputs": [],
   "source": [
    "from sklearn.model_selection import train_test_split\n",
    "from supervised.automl import AutoML"
   ]
  },
  {
   "cell_type": "code",
   "execution_count": 4,
   "id": "2795fc74",
   "metadata": {},
   "outputs": [],
   "source": [
    "X = pd.DataFrame(df[\"Date\"])\n",
    "y = pd.Series(df[\"Monthly Mean Total Sunspot Number\"], name=\"Monthly Mean Total Sunspot Number\")\n",
    "\n",
    "X_train, X_test, y_train, y_test = train_test_split(X, y, test_size=0.2)"
   ]
  },
  {
   "cell_type": "code",
   "execution_count": 5,
   "id": "603f80c4",
   "metadata": {},
   "outputs": [
    {
     "name": "stdout",
     "output_type": "stream",
     "text": [
      "AutoML directory: AutoML_1\n",
      "The task is regression with evaluation metric rmse\n",
      "AutoML will use algorithms: ['Baseline', 'Linear', 'Decision Tree', 'Random Forest', 'Xgboost', 'Neural Network']\n",
      "AutoML will ensemble available models\n"
     ]
    },
    {
     "name": "stderr",
     "output_type": "stream",
     "text": [
      "2021-10-03 09:28:36,956 supervised.preprocessing.eda ERROR There was an issue when running EDA. We need at least 1 word to plot a word cloud, got 0.\n"
     ]
    },
    {
     "name": "stdout",
     "output_type": "stream",
     "text": [
      "AutoML steps: ['simple_algorithms', 'default_algorithms', 'ensemble']\n",
      "* Step simple_algorithms will try to check up to 3 models\n",
      "1_Baseline rmse 66.987005 trained in 0.24 seconds\n",
      "2_DecisionTree rmse 66.229519 trained in 12.64 seconds\n",
      "3_Linear rmse 63.356154 trained in 3.36 seconds\n",
      "* Step default_algorithms will try to check up to 3 models\n",
      "4_Default_Xgboost rmse 64.154752 trained in 6.92 seconds\n",
      "5_Default_NeuralNetwork rmse 63.448048 trained in 1.59 seconds\n",
      "6_Default_RandomForest rmse 65.994538 trained in 20.5 seconds\n",
      "* Step ensemble will try to check up to 1 model\n",
      "Ensemble rmse 63.267194 trained in 0.26 seconds\n",
      "AutoML fit time: 51.56 seconds\n",
      "AutoML best model: Ensemble\n"
     ]
    },
    {
     "data": {
      "text/html": [
       "<div>\n",
       "<style scoped>\n",
       "    .dataframe tbody tr th:only-of-type {\n",
       "        vertical-align: middle;\n",
       "    }\n",
       "\n",
       "    .dataframe tbody tr th {\n",
       "        vertical-align: top;\n",
       "    }\n",
       "\n",
       "    .dataframe thead th {\n",
       "        text-align: right;\n",
       "    }\n",
       "</style>\n",
       "<table border=\"1\" class=\"dataframe\">\n",
       "  <thead>\n",
       "    <tr style=\"text-align: right;\">\n",
       "      <th></th>\n",
       "      <th>prediction</th>\n",
       "    </tr>\n",
       "  </thead>\n",
       "  <tbody>\n",
       "    <tr>\n",
       "      <th>0</th>\n",
       "      <td>80.333666</td>\n",
       "    </tr>\n",
       "    <tr>\n",
       "      <th>1</th>\n",
       "      <td>79.589810</td>\n",
       "    </tr>\n",
       "    <tr>\n",
       "      <th>2</th>\n",
       "      <td>82.203973</td>\n",
       "    </tr>\n",
       "    <tr>\n",
       "      <th>3</th>\n",
       "      <td>82.203973</td>\n",
       "    </tr>\n",
       "    <tr>\n",
       "      <th>4</th>\n",
       "      <td>89.186681</td>\n",
       "    </tr>\n",
       "  </tbody>\n",
       "</table>\n",
       "</div>"
      ],
      "text/plain": [
       "   prediction\n",
       "0   80.333666\n",
       "1   79.589810\n",
       "2   82.203973\n",
       "3   82.203973\n",
       "4   89.186681"
      ]
     },
     "execution_count": 5,
     "metadata": {},
     "output_type": "execute_result"
    }
   ],
   "source": [
    "automl = AutoML(total_time_limit=10*60)\n",
    "automl.fit(X_train, y_train)\n",
    "\n",
    "pred = automl.predict_all(X_test)\n",
    "\n",
    "pred.head()"
   ]
  },
  {
   "cell_type": "code",
   "execution_count": null,
   "id": "4798f519",
   "metadata": {},
   "outputs": [],
   "source": []
  }
 ],
 "metadata": {
  "kernelspec": {
   "display_name": "Python 3",
   "language": "python",
   "name": "python3"
  },
  "language_info": {
   "codemirror_mode": {
    "name": "ipython",
    "version": 3
   },
   "file_extension": ".py",
   "mimetype": "text/x-python",
   "name": "python",
   "nbconvert_exporter": "python",
   "pygments_lexer": "ipython3",
   "version": "3.7.9"
  }
 },
 "nbformat": 4,
 "nbformat_minor": 5
}
